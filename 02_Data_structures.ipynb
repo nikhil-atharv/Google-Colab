{
  "nbformat": 4,
  "nbformat_minor": 0,
  "metadata": {
    "colab": {
      "provenance": [],
      "authorship_tag": "ABX9TyMdbKme7UDboBXzkfXwG0zy",
      "include_colab_link": true
    },
    "kernelspec": {
      "name": "python3",
      "display_name": "Python 3"
    },
    "language_info": {
      "name": "python"
    }
  },
  "cells": [
    {
      "cell_type": "markdown",
      "metadata": {
        "id": "view-in-github",
        "colab_type": "text"
      },
      "source": [
        "<a href=\"https://colab.research.google.com/github/nikhil-atharv/Google-Colab/blob/main/02_Data_structures.ipynb\" target=\"_parent\"><img src=\"https://colab.research.google.com/assets/colab-badge.svg\" alt=\"Open In Colab\"/></a>"
      ]
    },
    {
      "cell_type": "code",
      "execution_count": 3,
      "metadata": {
        "colab": {
          "base_uri": "https://localhost:8080/"
        },
        "id": "WiFEcE9RiR0y",
        "outputId": "2dd4e8d9-dc47-4e92-ada9-b3ddb9ec336d"
      },
      "outputs": [
        {
          "output_type": "execute_result",
          "data": {
            "text/plain": [
              "42.3258"
            ]
          },
          "metadata": {},
          "execution_count": 3
        }
      ],
      "source": [
        "#Tuples\n",
        "\n",
        "point = (35.6895, 42.3258)\n",
        "point[1]"
      ]
    },
    {
      "cell_type": "code",
      "source": [
        "#Lists\n",
        "\n",
        "path = [(35.3261, 42.63214),\n",
        "        (23.1452, 56.4896),\n",
        "        (23.5412, 44.1259)]\n",
        "\n",
        "path[2]"
      ],
      "metadata": {
        "colab": {
          "base_uri": "https://localhost:8080/"
        },
        "id": "_0DbQGr3i2TU",
        "outputId": "0889b977-d08a-4321-d8e8-c022cce387c2"
      },
      "execution_count": 7,
      "outputs": [
        {
          "output_type": "execute_result",
          "data": {
            "text/plain": [
              "(23.5412, 44.1259)"
            ]
          },
          "metadata": {},
          "execution_count": 7
        }
      ]
    },
    {
      "cell_type": "code",
      "source": [
        "path.append((14.2364, 41.63214))\n",
        "path"
      ],
      "metadata": {
        "colab": {
          "base_uri": "https://localhost:8080/"
        },
        "id": "mqrAkD7HjncC",
        "outputId": "43a483a0-b729-4b2b-e3de-98c30edff32a"
      },
      "execution_count": 9,
      "outputs": [
        {
          "output_type": "execute_result",
          "data": {
            "text/plain": [
              "[(35.3261, 42.63214),\n",
              " (23.1452, 56.4896),\n",
              " (23.5412, 44.1259),\n",
              " (14.2364, 41.63214),\n",
              " (14.2364, 41.63214)]"
            ]
          },
          "metadata": {},
          "execution_count": 9
        }
      ]
    },
    {
      "cell_type": "code",
      "source": [
        "path[:3]"
      ],
      "metadata": {
        "colab": {
          "base_uri": "https://localhost:8080/"
        },
        "id": "LJnl3kWqkZYH",
        "outputId": "2fee73d2-7738-4228-c6de-a0502554971c"
      },
      "execution_count": 12,
      "outputs": [
        {
          "output_type": "execute_result",
          "data": {
            "text/plain": [
              "[(35.3261, 42.63214), (23.1452, 56.4896), (23.5412, 44.1259)]"
            ]
          },
          "metadata": {},
          "execution_count": 12
        }
      ]
    },
    {
      "cell_type": "code",
      "source": [
        "#sets\n",
        "\n",
        "regions = ['Mysore', 'Banaglore', 'Madikeri']\n",
        "regions = set(regions)\n",
        "regions"
      ],
      "metadata": {
        "colab": {
          "base_uri": "https://localhost:8080/"
        },
        "id": "8EJ2bV2-kqMF",
        "outputId": "46f68dc0-3ae2-4865-aae0-875f32515406"
      },
      "execution_count": 17,
      "outputs": [
        {
          "output_type": "execute_result",
          "data": {
            "text/plain": [
              "{'Banaglore', 'Madikeri', 'Mysore'}"
            ]
          },
          "metadata": {},
          "execution_count": 17
        }
      ]
    },
    {
      "cell_type": "code",
      "source": [
        "regions.add('Mangalore')\n",
        "regions.add('Madikeri')\n",
        "\n",
        "regions"
      ],
      "metadata": {
        "colab": {
          "base_uri": "https://localhost:8080/"
        },
        "id": "RYGKfUdfks9A",
        "outputId": "bd341212-3a3b-49bf-850c-8756d0f55593"
      },
      "execution_count": 20,
      "outputs": [
        {
          "output_type": "execute_result",
          "data": {
            "text/plain": [
              "{'Banaglore', 'Madikeri', 'Mangalore', 'Mysore'}"
            ]
          },
          "metadata": {},
          "execution_count": 20
        }
      ]
    },
    {
      "cell_type": "code",
      "source": [
        "#Dictionary\n",
        "\n",
        "city_attr = {\n",
        "    'name': 'Mysore',\n",
        "    'population': 125631,\n",
        "    'coordinates': (21.52645, 42.36412)\n",
        "}\n",
        "\n",
        "city_attr"
      ],
      "metadata": {
        "colab": {
          "base_uri": "https://localhost:8080/"
        },
        "id": "vKemdXxAlkwU",
        "outputId": "9536ddd4-21c0-4eb2-8006-5beac738f596"
      },
      "execution_count": 24,
      "outputs": [
        {
          "output_type": "execute_result",
          "data": {
            "text/plain": [
              "{'name': 'Mysore', 'population': 125631, 'coordinates': (21.52645, 42.36412)}"
            ]
          },
          "metadata": {},
          "execution_count": 24
        }
      ]
    },
    {
      "cell_type": "code",
      "source": [
        "print('The population of {} is {}  and its coordinates are {}'.format(city_attr['name'], city_attr['population'], city_attr['coordinates']))"
      ],
      "metadata": {
        "colab": {
          "base_uri": "https://localhost:8080/"
        },
        "id": "iSZ8Nu2vmQp3",
        "outputId": "3635cd48-9f63-4b15-8688-b5ff69dbf49f"
      },
      "execution_count": 25,
      "outputs": [
        {
          "output_type": "stream",
          "name": "stdout",
          "text": [
            "The population of Mysore is 125631  and its coordinates are (21.52645, 42.36412)\n"
          ]
        }
      ]
    }
  ]
}