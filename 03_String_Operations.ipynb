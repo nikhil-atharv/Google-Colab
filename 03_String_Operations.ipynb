{
  "nbformat": 4,
  "nbformat_minor": 0,
  "metadata": {
    "colab": {
      "provenance": [],
      "authorship_tag": "ABX9TyM/SeLVO3HbsXqHad3orJUd",
      "include_colab_link": true
    },
    "kernelspec": {
      "name": "python3",
      "display_name": "Python 3"
    },
    "language_info": {
      "name": "python"
    }
  },
  "cells": [
    {
      "cell_type": "markdown",
      "metadata": {
        "id": "view-in-github",
        "colab_type": "text"
      },
      "source": [
        "<a href=\"https://colab.research.google.com/github/nikhil-atharv/Google-Colab/blob/main/03_String_Operations.ipynb\" target=\"_parent\"><img src=\"https://colab.research.google.com/assets/colab-badge.svg\" alt=\"Open In Colab\"/></a>"
      ]
    },
    {
      "cell_type": "code",
      "execution_count": 3,
      "metadata": {
        "colab": {
          "base_uri": "https://localhost:8080/",
          "height": 36
        },
        "id": "pWzYYLtmXFqf",
        "outputId": "4d34b064-b85c-4e33-fc92-6f7e2decf14b"
      },
      "outputs": [
        {
          "output_type": "execute_result",
          "data": {
            "text/plain": [
              "'Western Ghats'"
            ],
            "application/vnd.google.colaboratory.intrinsic+json": {
              "type": "string"
            }
          },
          "metadata": {},
          "execution_count": 3
        }
      ],
      "source": [
        "place = 'Western Ghats'\n",
        "place"
      ]
    },
    {
      "cell_type": "code",
      "source": [
        "place_state = place + ', India'\n",
        "place_state"
      ],
      "metadata": {
        "colab": {
          "base_uri": "https://localhost:8080/",
          "height": 36
        },
        "id": "Z4n5O_eXX0Jg",
        "outputId": "e8279aaa-8dd6-4098-f265-7764a544b2e9"
      },
      "execution_count": 5,
      "outputs": [
        {
          "output_type": "execute_result",
          "data": {
            "text/plain": [
              "'Western Ghats, India'"
            ],
            "application/vnd.google.colaboratory.intrinsic+json": {
              "type": "string"
            }
          },
          "metadata": {},
          "execution_count": 5
        }
      ]
    },
    {
      "cell_type": "code",
      "source": [
        "numb = '10 ' * 2\n",
        "numb"
      ],
      "metadata": {
        "colab": {
          "base_uri": "https://localhost:8080/",
          "height": 36
        },
        "id": "l7SNf6VIX7iP",
        "outputId": "0228b82f-d470-427d-b58c-892883324cb4"
      },
      "execution_count": 9,
      "outputs": [
        {
          "output_type": "execute_result",
          "data": {
            "text/plain": [
              "'10 10 '"
            ],
            "application/vnd.google.colaboratory.intrinsic+json": {
              "type": "string"
            }
          },
          "metadata": {},
          "execution_count": 9
        }
      ]
    },
    {
      "cell_type": "code",
      "source": [
        "place.upper()"
      ],
      "metadata": {
        "colab": {
          "base_uri": "https://localhost:8080/",
          "height": 36
        },
        "id": "JwZwYkdfYXiy",
        "outputId": "5cf8c2d1-bb06-44b0-dc0b-bab6563c5ce2"
      },
      "execution_count": 11,
      "outputs": [
        {
          "output_type": "execute_result",
          "data": {
            "text/plain": [
              "'WESTERN GHATS'"
            ],
            "application/vnd.google.colaboratory.intrinsic+json": {
              "type": "string"
            }
          },
          "metadata": {},
          "execution_count": 11
        }
      ]
    },
    {
      "cell_type": "code",
      "source": [
        "place.lower()"
      ],
      "metadata": {
        "colab": {
          "base_uri": "https://localhost:8080/",
          "height": 36
        },
        "id": "2jMydfqVYkSN",
        "outputId": "27fed531-d22c-49b3-9ac3-8f46802f2743"
      },
      "execution_count": 12,
      "outputs": [
        {
          "output_type": "execute_result",
          "data": {
            "text/plain": [
              "'western ghats'"
            ],
            "application/vnd.google.colaboratory.intrinsic+json": {
              "type": "string"
            }
          },
          "metadata": {},
          "execution_count": 12
        }
      ]
    },
    {
      "cell_type": "code",
      "source": [
        "replaced = place.replace('Western', 'Eastern')\n",
        "replaced"
      ],
      "metadata": {
        "colab": {
          "base_uri": "https://localhost:8080/",
          "height": 36
        },
        "id": "n3WEespZYoWj",
        "outputId": "37ba7f80-58f2-44ac-c39f-d5f26ae5bf0d"
      },
      "execution_count": 14,
      "outputs": [
        {
          "output_type": "execute_result",
          "data": {
            "text/plain": [
              "'Eastern Ghats'"
            ],
            "application/vnd.google.colaboratory.intrinsic+json": {
              "type": "string"
            }
          },
          "metadata": {},
          "execution_count": 14
        }
      ]
    },
    {
      "cell_type": "code",
      "source": [
        "splited = place_state.split(',')\n",
        "print(splited)"
      ],
      "metadata": {
        "colab": {
          "base_uri": "https://localhost:8080/"
        },
        "id": "Bl_gLQ7oY0uH",
        "outputId": "9a642bc8-96f8-4018-89f7-770313510693"
      },
      "execution_count": 16,
      "outputs": [
        {
          "output_type": "stream",
          "name": "stdout",
          "text": [
            "['Western Ghats', ' India']\n"
          ]
        }
      ]
    },
    {
      "cell_type": "code",
      "source": [
        "countries = ['Nepal', 'Bhutan', 'India', 'Sri lanka']"
      ],
      "metadata": {
        "id": "UiVrwZscZOzz"
      },
      "execution_count": 17,
      "outputs": []
    },
    {
      "cell_type": "code",
      "source": [
        "normalized = [country.strip().title() for country in countries]\n",
        "print(normalized)"
      ],
      "metadata": {
        "colab": {
          "base_uri": "https://localhost:8080/"
        },
        "id": "7Nvx3-voZlNH",
        "outputId": "0a499fe7-533b-4b64-fd12-3dcd7d35d9e5"
      },
      "execution_count": 19,
      "outputs": [
        {
          "output_type": "stream",
          "name": "stdout",
          "text": [
            "['Nepal', 'Bhutan', 'India', 'Sri Lanka']\n"
          ]
        }
      ]
    },
    {
      "cell_type": "code",
      "source": [
        "coords = '14.6324N, 41.21456E'"
      ],
      "metadata": {
        "id": "nfygqiVLaB8g"
      },
      "execution_count": 20,
      "outputs": []
    },
    {
      "cell_type": "code",
      "source": [
        "lat, lon = coords.split(', ')"
      ],
      "metadata": {
        "id": "0VXDduIkaLdU"
      },
      "execution_count": 21,
      "outputs": []
    },
    {
      "cell_type": "code",
      "source": [
        "lon_num = float(lon[:-1])\n",
        "lon_num"
      ],
      "metadata": {
        "colab": {
          "base_uri": "https://localhost:8080/"
        },
        "id": "XgDAVOjvaTLM",
        "outputId": "19d4de4a-9d8b-4325-dc44-5aae294db263"
      },
      "execution_count": 26,
      "outputs": [
        {
          "output_type": "execute_result",
          "data": {
            "text/plain": [
              "41.21456"
            ]
          },
          "metadata": {},
          "execution_count": 26
        }
      ]
    },
    {
      "cell_type": "code",
      "source": [
        "lat_num = float(lat[:-1])\n",
        "lat_num"
      ],
      "metadata": {
        "colab": {
          "base_uri": "https://localhost:8080/"
        },
        "id": "DDKTzGWxaiv2",
        "outputId": "bafe7cb3-e366-4ed2-a17b-598285313ec7"
      },
      "execution_count": 27,
      "outputs": [
        {
          "output_type": "execute_result",
          "data": {
            "text/plain": [
              "14.6324"
            ]
          },
          "metadata": {},
          "execution_count": 27
        }
      ]
    }
  ]
}