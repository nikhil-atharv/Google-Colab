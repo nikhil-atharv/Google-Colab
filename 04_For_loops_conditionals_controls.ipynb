{
  "nbformat": 4,
  "nbformat_minor": 0,
  "metadata": {
    "colab": {
      "provenance": [],
      "authorship_tag": "ABX9TyOdnydeLpq9uqAguVrZjYUD",
      "include_colab_link": true
    },
    "kernelspec": {
      "name": "python3",
      "display_name": "Python 3"
    },
    "language_info": {
      "name": "python"
    }
  },
  "cells": [
    {
      "cell_type": "markdown",
      "metadata": {
        "id": "view-in-github",
        "colab_type": "text"
      },
      "source": [
        "<a href=\"https://colab.research.google.com/github/nikhil-atharv/Google-Colab/blob/main/04_For_loops_conditionals_controls.ipynb\" target=\"_parent\"><img src=\"https://colab.research.google.com/assets/colab-badge.svg\" alt=\"Open In Colab\"/></a>"
      ]
    },
    {
      "cell_type": "code",
      "execution_count": 1,
      "metadata": {
        "id": "BEvFxQQ2ttvL"
      },
      "outputs": [],
      "source": [
        "cities = ['Mysore', 'Bangalore', 'Chennai', 'Hyderabad']"
      ]
    },
    {
      "cell_type": "code",
      "source": [
        "for city in cities:\n",
        "  print(city)"
      ],
      "metadata": {
        "colab": {
          "base_uri": "https://localhost:8080/"
        },
        "id": "QPI4E8DuuOoR",
        "outputId": "75bb9b54-2096-47fd-c155-9d383a7c5a17"
      },
      "execution_count": 4,
      "outputs": [
        {
          "output_type": "stream",
          "name": "stdout",
          "text": [
            "Mysore\n",
            "Bangalore\n",
            "Chennai\n",
            "Hyderabad\n"
          ]
        }
      ]
    },
    {
      "cell_type": "code",
      "source": [
        "data = {'city': 'Mysore',\n",
        "        'population': 54621,\n",
        "        'coordinates': (42.1261, 14.6321)}"
      ],
      "metadata": {
        "id": "gOt3haVeuwY5"
      },
      "execution_count": 5,
      "outputs": []
    },
    {
      "cell_type": "code",
      "source": [
        "for x,y in data.items():\n",
        "  print(x,y)"
      ],
      "metadata": {
        "colab": {
          "base_uri": "https://localhost:8080/"
        },
        "id": "iQ6M0ruXvEL1",
        "outputId": "0e6ce2cc-a054-4024-f1b0-4f19d4002d73"
      },
      "execution_count": 7,
      "outputs": [
        {
          "output_type": "stream",
          "name": "stdout",
          "text": [
            "city Mysore\n",
            "population 54621\n",
            "coordinates (42.1261, 14.6321)\n"
          ]
        }
      ]
    },
    {
      "cell_type": "code",
      "source": [
        "for x in range(6):\n",
        "  print(x)"
      ],
      "metadata": {
        "colab": {
          "base_uri": "https://localhost:8080/"
        },
        "id": "PXkds_MRvVGM",
        "outputId": "4646a7af-0fd1-41cb-a8b9-c472dc911563"
      },
      "execution_count": 9,
      "outputs": [
        {
          "output_type": "stream",
          "name": "stdout",
          "text": [
            "0\n",
            "1\n",
            "2\n",
            "3\n",
            "4\n",
            "5\n"
          ]
        }
      ]
    },
    {
      "cell_type": "code",
      "source": [
        "for x in range(10, 20, 2):\n",
        "  print(x)"
      ],
      "metadata": {
        "colab": {
          "base_uri": "https://localhost:8080/"
        },
        "id": "-HkXdCQyvliS",
        "outputId": "32ca7b6a-722b-4651-feb3-ace862189f91"
      },
      "execution_count": 10,
      "outputs": [
        {
          "output_type": "stream",
          "name": "stdout",
          "text": [
            "10\n",
            "12\n",
            "14\n",
            "16\n",
            "18\n"
          ]
        }
      ]
    },
    {
      "cell_type": "code",
      "source": [
        "cities = ['Mysore', 'Bangalore', 'Chennai', 'Hyderabad']"
      ],
      "metadata": {
        "id": "fEhG9SH6vzeb"
      },
      "execution_count": 11,
      "outputs": []
    },
    {
      "cell_type": "code",
      "source": [
        "for city in cities:\n",
        "  if city == 'Mysore':\n",
        "    print(city)"
      ],
      "metadata": {
        "colab": {
          "base_uri": "https://localhost:8080/"
        },
        "id": "h5qrUmtbv4Lq",
        "outputId": "32aa2993-7126-437d-c60a-0388ade73ad2"
      },
      "execution_count": 12,
      "outputs": [
        {
          "output_type": "stream",
          "name": "stdout",
          "text": [
            "Mysore\n"
          ]
        }
      ]
    },
    {
      "cell_type": "code",
      "source": [
        "for city in cities:\n",
        "  if city == 'Chennai':\n",
        "    print(city)\n",
        "\n",
        "  else:\n",
        "    print('Rest are not mysore')"
      ],
      "metadata": {
        "colab": {
          "base_uri": "https://localhost:8080/"
        },
        "id": "rgGqDogPwTV6",
        "outputId": "2cdb6898-e91e-4d1e-f50e-063723d834af"
      },
      "execution_count": 14,
      "outputs": [
        {
          "output_type": "stream",
          "name": "stdout",
          "text": [
            "Rest are not mysore\n",
            "Rest are not mysore\n",
            "Chennai\n",
            "Rest are not mysore\n"
          ]
        }
      ]
    },
    {
      "cell_type": "code",
      "source": [
        "cities_population = {\n",
        "    'Mysore': 54123,\n",
        "    'Bangalore': 145698,\n",
        "    'Chennai': 87412,\n",
        "    'Hyderabad': 87456\n",
        "}"
      ],
      "metadata": {
        "id": "7xMcz531w76X"
      },
      "execution_count": 15,
      "outputs": []
    },
    {
      "cell_type": "code",
      "source": [
        "cities_population"
      ],
      "metadata": {
        "colab": {
          "base_uri": "https://localhost:8080/"
        },
        "id": "qv6rK_lZxN5N",
        "outputId": "32f22ac0-2353-4fd1-eb0b-852322fa6995"
      },
      "execution_count": 16,
      "outputs": [
        {
          "output_type": "execute_result",
          "data": {
            "text/plain": [
              "{'Mysore': 54123, 'Bangalore': 145698, 'Chennai': 87412, 'Hyderabad': 87456}"
            ]
          },
          "metadata": {},
          "execution_count": 16
        }
      ]
    },
    {
      "cell_type": "code",
      "source": [
        "for city, population in cities_population.items():\n",
        "\n",
        "  if population > 100000:\n",
        "    print('{} has population of {}. Which is greater than 1 lakh'.format(city, population))\n",
        "\n",
        "  elif population < 60000:\n",
        "    print('{}, {}'.format(city, population))\n",
        "\n",
        "  else:\n",
        "    print('{} is between 60k and 100k population with population of {}'.format(city, population))"
      ],
      "metadata": {
        "colab": {
          "base_uri": "https://localhost:8080/"
        },
        "id": "zECYM8FSxTcD",
        "outputId": "15fb0248-64bf-4188-810d-2365775a1a06"
      },
      "execution_count": 20,
      "outputs": [
        {
          "output_type": "stream",
          "name": "stdout",
          "text": [
            "Mysore, 54123\n",
            "Bangalore has population of 145698. Which is greater than 1 lakh\n",
            "Chennai is between 60k and 100k population with population of 87412\n",
            "Hyderabad is between 60k and 100k population with population of 87456\n"
          ]
        }
      ]
    },
    {
      "cell_type": "code",
      "source": [
        "cities = ['Mysore', 'Bangalore', 'Chennai', 'Hyderabad']"
      ],
      "metadata": {
        "id": "5YV6Hv2Jyt-j"
      },
      "execution_count": 21,
      "outputs": []
    },
    {
      "cell_type": "code",
      "source": [
        "for city in cities:\n",
        "  print(city)\n",
        "  if city == 'Bangalore':\n",
        "    print('I found Bangalore')\n",
        "    break"
      ],
      "metadata": {
        "colab": {
          "base_uri": "https://localhost:8080/"
        },
        "id": "KUOYxoNvyxEV",
        "outputId": "250d6e3e-58dc-4538-cdab-2dcfed218bc1"
      },
      "execution_count": 22,
      "outputs": [
        {
          "output_type": "stream",
          "name": "stdout",
          "text": [
            "Mysore\n",
            "Bangalore\n",
            "I found Bangalore\n"
          ]
        }
      ]
    },
    {
      "cell_type": "code",
      "source": [
        "for city in cities:\n",
        "  if city == 'Bangalore':\n",
        "    continue\n",
        "  print(city)"
      ],
      "metadata": {
        "colab": {
          "base_uri": "https://localhost:8080/"
        },
        "id": "OwN9haALzPpK",
        "outputId": "c93f5a0c-1b45-42b7-e211-49cff26e33c8"
      },
      "execution_count": 23,
      "outputs": [
        {
          "output_type": "stream",
          "name": "stdout",
          "text": [
            "Mysore\n",
            "Chennai\n",
            "Hyderabad\n"
          ]
        }
      ]
    },
    {
      "cell_type": "code",
      "source": [
        "for city in cities:\n",
        "  if city == 'Bangalore':\n",
        "    pass\n",
        "  else:\n",
        "    print(city)"
      ],
      "metadata": {
        "colab": {
          "base_uri": "https://localhost:8080/"
        },
        "id": "AquL9lcQzkGQ",
        "outputId": "38a4e4d4-c18d-45d5-cefb-3520417539b6"
      },
      "execution_count": 24,
      "outputs": [
        {
          "output_type": "stream",
          "name": "stdout",
          "text": [
            "Mysore\n",
            "Chennai\n",
            "Hyderabad\n"
          ]
        }
      ]
    }
  ]
}