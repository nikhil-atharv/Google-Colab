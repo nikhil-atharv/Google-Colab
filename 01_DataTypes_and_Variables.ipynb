{
  "nbformat": 4,
  "nbformat_minor": 0,
  "metadata": {
    "colab": {
      "provenance": [],
      "authorship_tag": "ABX9TyPXS8Am+l5QkZ6f5zI+H0QS",
      "include_colab_link": true
    },
    "kernelspec": {
      "name": "python3",
      "display_name": "Python 3"
    },
    "language_info": {
      "name": "python"
    }
  },
  "cells": [
    {
      "cell_type": "markdown",
      "metadata": {
        "id": "view-in-github",
        "colab_type": "text"
      },
      "source": [
        "<a href=\"https://colab.research.google.com/github/nikhil-atharv/Google-Colab/blob/main/01_DataTypes_and_Variables.ipynb\" target=\"_parent\"><img src=\"https://colab.research.google.com/assets/colab-badge.svg\" alt=\"Open In Colab\"/></a>"
      ]
    },
    {
      "cell_type": "code",
      "execution_count": 6,
      "metadata": {
        "id": "CS4dOBD4PRjB"
      },
      "outputs": [],
      "source": [
        "##Numbers\n",
        "\n",
        "integer = 80.00\n",
        "floated = 45.56"
      ]
    },
    {
      "cell_type": "code",
      "source": [
        "type(floated)"
      ],
      "metadata": {
        "colab": {
          "base_uri": "https://localhost:8080/"
        },
        "id": "wYIuhttrQoDA",
        "outputId": "677067eb-2414-4e38-dec1-b2663facff0f"
      },
      "execution_count": 8,
      "outputs": [
        {
          "output_type": "execute_result",
          "data": {
            "text/plain": [
              "float"
            ]
          },
          "metadata": {},
          "execution_count": 8
        }
      ]
    },
    {
      "cell_type": "code",
      "source": [
        "##string\n",
        "\n",
        "hi = 'Hi students'\n",
        "type(hi)"
      ],
      "metadata": {
        "colab": {
          "base_uri": "https://localhost:8080/"
        },
        "id": "O829wDXSQ6lU",
        "outputId": "2f0bf116-d1b9-4d45-d930-9218605f931f"
      },
      "execution_count": 10,
      "outputs": [
        {
          "output_type": "execute_result",
          "data": {
            "text/plain": [
              "str"
            ]
          },
          "metadata": {},
          "execution_count": 10
        }
      ]
    },
    {
      "cell_type": "code",
      "source": [
        "name = \"My Aunt's Name is Hairat\"\n",
        "name"
      ],
      "metadata": {
        "colab": {
          "base_uri": "https://localhost:8080/",
          "height": 36
        },
        "id": "sKU6RJlJSAeR",
        "outputId": "b32ce0a9-67d9-44d1-eebe-7d23a42e4a90"
      },
      "execution_count": 21,
      "outputs": [
        {
          "output_type": "execute_result",
          "data": {
            "text/plain": [
              "\"My Aunt's Name is Hairat\""
            ],
            "application/vnd.google.colaboratory.intrinsic+json": {
              "type": "string"
            }
          },
          "metadata": {},
          "execution_count": 21
        }
      ]
    },
    {
      "cell_type": "code",
      "source": [
        "##lists\n",
        "\n",
        "lis_numers = [1, 2,6,8,9,10]\n",
        "lis_numers"
      ],
      "metadata": {
        "colab": {
          "base_uri": "https://localhost:8080/"
        },
        "id": "CWd9e62zROdo",
        "outputId": "1430ae11-1219-4208-c304-26d5282838a0"
      },
      "execution_count": 13,
      "outputs": [
        {
          "output_type": "execute_result",
          "data": {
            "text/plain": [
              "[1, 2, 6, 8, 9, 10]"
            ]
          },
          "metadata": {},
          "execution_count": 13
        }
      ]
    },
    {
      "cell_type": "code",
      "source": [
        "##dictionary\n",
        "\n",
        "details = {\n",
        "    'Name': 'Anuj',\n",
        "    'Age': 56,\n",
        "    'Gender': 'male',\n",
        "    'City': 'Bangalore'\n",
        "}\n",
        "\n",
        "details"
      ],
      "metadata": {
        "colab": {
          "base_uri": "https://localhost:8080/"
        },
        "id": "9XEwLd3TRXb3",
        "outputId": "e140dacd-e63d-4b8d-88a4-1518c9110b32"
      },
      "execution_count": 14,
      "outputs": [
        {
          "output_type": "execute_result",
          "data": {
            "text/plain": [
              "{'Name': 'Anuj', 'Age': 56, 'Gender': 'male', 'City': 'Bangalore'}"
            ]
          },
          "metadata": {},
          "execution_count": 14
        }
      ]
    },
    {
      "cell_type": "code",
      "source": [],
      "metadata": {
        "id": "7iGb5nLwR1eC"
      },
      "execution_count": null,
      "outputs": []
    }
  ]
}